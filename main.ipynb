{
 "cells": [
  {
   "cell_type": "markdown",
   "metadata": {},
   "source": [
    "# NZX 50 Forecasting Pipeline with Enhanced XAI & Performance\n",
    "## AI-Powered Stock Market Forecasting and Risk Analysis\n",
    "**Ray Marange - 09 October 2025**\n",
    "\n",
    "Enhanced version with robust XAI and performance optimization\n",
    "\n",
    "### Dependencies\n",
    "This notebook requires: torch, pandas, numpy, xgboost, sklearn, matplotlib, seaborn, shap, sympy\n",
    "\n",
    "**Note:** Ensure all dependencies are installed in your Python environment\n",
    "\n",
    "**Usage:** Run all cells sequentially"
   ]
  },
  {
   "cell_type": "markdown",
   "metadata": {},
   "source": [
    "## 1. Import Dependencies and Setup"
   ]
  },
  {
   "cell_type": "code",
   "execution_count": null,
   "metadata": {},
   "outputs": [],
   "source": [
    "# Import the main module\n",
    "import sys\n",
    "sys.path.append('.')\n",
    "from main import *\n",
    "\n",
    "# Configure notebook display\n",
    "%matplotlib inline\n",
    "pd.set_option('display.max_columns', None)\n",
    "pd.set_option('display.width', 1000)\n",
    "\n",
    "print(\"✓ All dependencies imported successfully!\")"
   ]
  },
  {
   "cell_type": "markdown",
   "metadata": {},
   "source": [
    "## 2. Generate NZX 50 Market Data"
   ]
  },
  {
   "cell_type": "code",
   "execution_count": null,
   "metadata": {},
   "outputs": [],
   "source": [
    "# Generate synthetic NZX 50 data\n",
    "data_gen = NZX50DataGenerator(start_date='2020-01-01', end_date='2025-10-01')\n",
    "df_raw = data_gen.generate_data()\n",
    "\n",
    "print(f\"Generated {len(df_raw)} days of market data\")\n",
    "print(f\"Date range: {df_raw.index[0]} to {df_raw.index[-1]}\")\n",
    "print(\"\\nFirst few rows:\")\n",
    "df_raw.head(10)"
   ]
  },
  {
   "cell_type": "markdown",
   "metadata": {},
   "source": [
    "## 3. Feature Engineering"
   ]
  },
  {
   "cell_type": "code",
   "execution_count": null,
   "metadata": {},
   "outputs": [],
   "source": [
    "# Add technical indicators\n",
    "feature_eng = FeatureEngineering()\n",
    "df_features = feature_eng.add_technical_indicators(df_raw)\n",
    "\n",
    "print(f\"Created {len(df_features.columns)} features\")\n",
    "print(f\"\\nFeatures: {', '.join(df_features.columns.tolist())}\")\n",
    "print(\"\\nFeature dataset shape:\", df_features.shape)\n",
    "df_features.head()"
   ]
  },
  {
   "cell_type": "markdown",
   "metadata": {},
   "source": [
    "## 4. Data Preparation"
   ]
  },
  {
   "cell_type": "code",
   "execution_count": null,
   "metadata": {},
   "outputs": [],
   "source": [
    "# Prepare data for training\n",
    "forecaster = NZX50Forecaster(sequence_length=30)\n",
    "(X_train_seq, y_train_seq, X_test_seq, y_test_seq,\n",
    " X_train_flat, y_train_flat, X_test_flat, y_test_flat) = forecaster.prepare_data(df_features)\n",
    "\n",
    "print(f\"Training sequences shape: {X_train_seq.shape}\")\n",
    "print(f\"Testing sequences shape: {X_test_seq.shape}\")\n",
    "print(f\"Training flat shape: {X_train_flat.shape}\")\n",
    "print(f\"Testing flat shape: {X_test_flat.shape}\")"
   ]
  },
  {
   "cell_type": "markdown",
   "metadata": {},
   "source": [
    "## 5. Train LSTM Model"
   ]
  },
  {
   "cell_type": "code",
   "execution_count": null,
   "metadata": {},
   "outputs": [],
   "source": [
    "# Train LSTM neural network\n",
    "lstm_history = forecaster.train_lstm(X_train_seq, y_train_seq, epochs=50, batch_size=32)"
   ]
  },
  {
   "cell_type": "markdown",
   "metadata": {},
   "source": [
    "## 6. Train XGBoost Model"
   ]
  },
  {
   "cell_type": "code",
   "execution_count": null,
   "metadata": {},
   "outputs": [],
   "source": [
    "# Train XGBoost model\n",
    "xgb_history = forecaster.train_xgboost(X_train_flat, y_train_flat)"
   ]
  },
  {
   "cell_type": "markdown",
   "metadata": {},
   "source": [
    "## 7. Generate Predictions"
   ]
  },
  {
   "cell_type": "code",
   "execution_count": null,
   "metadata": {},
   "outputs": [],
   "source": [
    "# Make predictions\n",
    "ensemble_pred = forecaster.ensemble_predict(X_test_seq, X_test_flat, weights=[0.5, 0.5])\n",
    "y_test_actual = forecaster.target_scaler.inverse_transform(y_test_seq)\n",
    "\n",
    "lstm_pred = forecaster.predict_lstm(X_test_seq)\n",
    "xgb_pred = forecaster.predict_xgboost(X_test_flat)\n",
    "\n",
    "print(\"✓ Predictions generated successfully\")\n",
    "print(f\"Ensemble predictions shape: {ensemble_pred.shape}\")"
   ]
  },
  {
   "cell_type": "markdown",
   "metadata": {},
   "source": [
    "## 8. Risk Analysis and Performance Metrics"
   ]
  },
  {
   "cell_type": "code",
   "execution_count": null,
   "metadata": {},
   "outputs": [],
   "source": [
    "# Perform risk analysis\n",
    "risk_analyzer = RiskAnalyzer()\n",
    "\n",
    "# Calculate performance metrics\n",
    "ensemble_metrics = risk_analyzer.calculate_metrics(y_test_actual, ensemble_pred)\n",
    "lstm_metrics = risk_analyzer.calculate_metrics(y_test_actual, lstm_pred)\n",
    "xgb_metrics = risk_analyzer.calculate_metrics(y_test_actual, xgb_pred)\n",
    "\n",
    "# Display results\n",
    "print(\"=\"*60)\n",
    "print(\"PERFORMANCE METRICS\")\n",
    "print(\"=\"*60)\n",
    "\n",
    "metrics_df = pd.DataFrame({\n",
    "    'Ensemble': ensemble_metrics,\n",
    "    'LSTM': lstm_metrics,\n",
    "    'XGBoost': xgb_metrics\n",
    "})\n",
    "\n",
    "metrics_df"
   ]
  },
  {
   "cell_type": "code",
   "execution_count": null,
   "metadata": {},
   "outputs": [],
   "source": [
    "# Calculate risk metrics\n",
    "returns = np.diff(y_test_actual.flatten()) / y_test_actual[:-1].flatten()\n",
    "var_95 = risk_analyzer.calculate_var(returns, 0.95)\n",
    "cvar_95 = risk_analyzer.calculate_cvar(returns, 0.95)\n",
    "sharpe = risk_analyzer.calculate_sharpe_ratio(returns)\n",
    "\n",
    "print(\"=\"*60)\n",
    "print(\"RISK METRICS\")\n",
    "print(\"=\"*60)\n",
    "print(f\"Value at Risk (95%): {var_95:.6f}\")\n",
    "print(f\"Conditional VaR (95%): {cvar_95:.6f}\")\n",
    "print(f\"Sharpe Ratio: {sharpe:.6f}\")"
   ]
  },
  {
   "cell_type": "markdown",
   "metadata": {},
   "source": [
    "## 9. Explainable AI (XAI) Analysis"
   ]
  },
  {
   "cell_type": "code",
   "execution_count": null,
   "metadata": {},
   "outputs": [],
   "source": [
    "# Perform SHAP analysis\n",
    "xai_analyzer = XAIAnalyzer(forecaster.xgb_model, forecaster.feature_names)\n",
    "shap_values = xai_analyzer.analyze(X_test_flat, sample_size=100)"
   ]
  },
  {
   "cell_type": "markdown",
   "metadata": {},
   "source": [
    "## 10. Visualizations"
   ]
  },
  {
   "cell_type": "code",
   "execution_count": null,
   "metadata": {},
   "outputs": [],
   "source": [
    "# Create visualizer\n",
    "visualizer = Visualizer()\n",
    "\n",
    "# Plot predictions vs actual\n",
    "visualizer.plot_predictions(y_test_actual, ensemble_pred, \n",
    "                           \"NZX 50 Ensemble Model: Predictions vs Actual\")"
   ]
  },
  {
   "cell_type": "code",
   "execution_count": null,
   "metadata": {},
   "outputs": [],
   "source": [
    "# Plot feature importance\n",
    "visualizer.plot_feature_importance(xgb_history['feature_importance'], \n",
    "                                  forecaster.feature_names)"
   ]
  },
  {
   "cell_type": "code",
   "execution_count": null,
   "metadata": {},
   "outputs": [],
   "source": [
    "# Plot SHAP summary\n",
    "visualizer.plot_shap_summary(shap_values, forecaster.feature_names)"
   ]
  },
  {
   "cell_type": "code",
   "execution_count": null,
   "metadata": {},
   "outputs": [],
   "source": [
    "# Plot training loss\n",
    "visualizer.plot_training_loss(lstm_history['train_losses'])"
   ]
  },
  {
   "cell_type": "code",
   "execution_count": null,
   "metadata": {},
   "outputs": [],
   "source": [
    "# Plot risk metrics\n",
    "visualizer.plot_risk_metrics(returns)"
   ]
  },
  {
   "cell_type": "markdown",
   "metadata": {},
   "source": [
    "## 11. Summary and Conclusions"
   ]
  },
  {
   "cell_type": "code",
   "execution_count": null,
   "metadata": {},
   "outputs": [],
   "source": [
    "print(\"=\"*70)\n",
    "print(\" \" * 20 + \"PIPELINE COMPLETED\")\n",
    "print(\"=\"*70)\n",
    "print(\"\\n✓ NZX 50 Forecasting Pipeline executed successfully!\")\n",
    "print(\"\\n✓ Key Achievements:\")\n",
    "print(\"  - Multi-model forecasting (LSTM + XGBoost ensemble)\")\n",
    "print(\"  - Comprehensive risk analysis (VaR, CVaR, Sharpe Ratio)\")\n",
    "print(\"  - Explainable AI with SHAP values\")\n",
    "print(\"  - Advanced feature engineering with technical indicators\")\n",
    "print(\"  - Performance optimization and visualization\")\n",
    "print(\"\\n\" + \"=\"*70)"
   ]
  }
 ],
 "metadata": {
  "kernelspec": {
   "display_name": "Python 3",
   "language": "python",
   "name": "python3"
  },
  "language_info": {
   "codemirror_mode": {
    "name": "ipython",
    "version": 3
   },
   "file_extension": ".py",
   "mimetype": "text/x-python",
   "name": "python",
   "nbconvert_exporter": "python",
   "pygments_lexer": "ipython3",
   "version": "3.8.0"
  }
 },
 "nbformat": 4,
 "nbformat_minor": 4
}
